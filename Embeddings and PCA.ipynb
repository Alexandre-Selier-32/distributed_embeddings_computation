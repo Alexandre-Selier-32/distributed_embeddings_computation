{
 "cells": [
  {
   "cell_type": "code",
   "execution_count": 23,
   "id": "4507dc52",
   "metadata": {},
   "outputs": [
    {
     "name": "stdout",
     "output_type": "stream",
     "text": [
      "Once deleted, variables cannot be recovered. Proceed (y/[n])? y\n"
     ]
    }
   ],
   "source": [
    "%reset"
   ]
  },
  {
   "cell_type": "code",
   "execution_count": 24,
   "id": "4a8158fe",
   "metadata": {},
   "outputs": [
    {
     "data": {
      "application/vnd.jupyter.widget-view+json": {
       "model_id": "",
       "version_major": 2,
       "version_minor": 0
      },
      "text/plain": [
       "FloatProgress(value=0.0, bar_style='info', description='Progress:', layout=Layout(height='25px', width='50%'),…"
      ]
     },
     "metadata": {},
     "output_type": "display_data"
    }
   ],
   "source": [
    "import pandas as pd\n",
    "from PIL import Image\n",
    "import numpy as np\n",
    "import io\n",
    "\n",
    "from tensorflow.keras.applications.mobilenet_v2 import MobileNetV2, preprocess_input\n",
    "from tensorflow.keras.preprocessing.image import img_to_array\n",
    "from tensorflow.keras import Model\n",
    "from pyspark.ml.feature import PCA\n",
    "from pyspark.ml.linalg import Vectors, VectorUDT\n",
    "from pyspark.sql.functions import col, pandas_udf, PandasUDFType, element_at, split, udf\n",
    "from pyspark.sql import SparkSession"
   ]
  },
  {
   "cell_type": "code",
   "execution_count": 25,
   "id": "56ae0f0c",
   "metadata": {},
   "outputs": [
    {
     "data": {
      "application/vnd.jupyter.widget-view+json": {
       "model_id": "",
       "version_major": 2,
       "version_minor": 0
      },
      "text/plain": [
       "FloatProgress(value=0.0, bar_style='info', description='Progress:', layout=Layout(height='25px', width='50%'),…"
      ]
     },
     "metadata": {},
     "output_type": "display_data"
    },
    {
     "name": "stdout",
     "output_type": "stream",
     "text": [
      "PATH:        s3://alex-oc-test-21/\n",
      "PATH_Data:   s3://alex-oc-test-21/input/\n",
      "PATH_Result: s3://alex-oc-test-21/output/"
     ]
    }
   ],
   "source": [
    "PATH = 's3://alex-oc-test-21/'\n",
    "PATH_Data = PATH+'input/'\n",
    "PATH_Result = PATH+'output/'\n",
    "\n",
    "print(\n",
    "    'PATH:        ' + PATH        + '\\n' +\n",
    "    'PATH_Data:   ' + PATH_Data   + '\\n' +\n",
    "    'PATH_Result: ' + PATH_Result\n",
    ")"
   ]
  },
  {
   "cell_type": "code",
   "execution_count": 26,
   "id": "f7e45b18",
   "metadata": {},
   "outputs": [
    {
     "data": {
      "application/vnd.jupyter.widget-view+json": {
       "model_id": "",
       "version_major": 2,
       "version_minor": 0
      },
      "text/plain": [
       "FloatProgress(value=0.0, bar_style='info', description='Progress:', layout=Layout(height='25px', width='50%'),…"
      ]
     },
     "metadata": {},
     "output_type": "display_data"
    }
   ],
   "source": [
    "images = spark.read.format(\"binaryFile\") \\\n",
    "  .option(\"pathGlobFilter\", \"*.jpg\") \\\n",
    "  .option(\"recursiveFileLookup\", \"true\") \\\n",
    "  .load(PATH_Data)"
   ]
  },
  {
   "cell_type": "code",
   "execution_count": 27,
   "id": "e39971be",
   "metadata": {},
   "outputs": [
    {
     "data": {
      "application/vnd.jupyter.widget-view+json": {
       "model_id": "",
       "version_major": 2,
       "version_minor": 0
      },
      "text/plain": [
       "FloatProgress(value=0.0, bar_style='info', description='Progress:', layout=Layout(height='25px', width='50%'),…"
      ]
     },
     "metadata": {},
     "output_type": "display_data"
    },
    {
     "name": "stdout",
     "output_type": "stream",
     "text": [
      "root\n",
      " |-- path: string (nullable = true)\n",
      " |-- modificationTime: timestamp (nullable = true)\n",
      " |-- length: long (nullable = true)\n",
      " |-- content: binary (nullable = true)\n",
      " |-- label: string (nullable = true)\n",
      "\n",
      "None\n",
      "+---------------------------------------------------+-------+\n",
      "|path                                               |label  |\n",
      "+---------------------------------------------------+-------+\n",
      "|s3://alex-oc-test-21/input/Test1/Apricot/11_100.jpg|Apricot|\n",
      "|s3://alex-oc-test-21/input/Test1/Apricot/10_100.jpg|Apricot|\n",
      "|s3://alex-oc-test-21/input/Test1/Apricot/12_100.jpg|Apricot|\n",
      "|s3://alex-oc-test-21/input/Test1/Apricot/0_100.jpg |Apricot|\n",
      "|s3://alex-oc-test-21/input/Test1/Apricot/2_100.jpg |Apricot|\n",
      "+---------------------------------------------------+-------+\n",
      "only showing top 5 rows\n",
      "\n",
      "None"
     ]
    }
   ],
   "source": [
    "images = images.withColumn('label', element_at(split(images['path'], '/'),-2))\n",
    "print(images.printSchema())\n",
    "print(images.select('path','label').show(5,False))"
   ]
  },
  {
   "cell_type": "code",
   "execution_count": 28,
   "id": "3c71786b",
   "metadata": {},
   "outputs": [
    {
     "data": {
      "application/vnd.jupyter.widget-view+json": {
       "model_id": "",
       "version_major": 2,
       "version_minor": 0
      },
      "text/plain": [
       "FloatProgress(value=0.0, bar_style='info', description='Progress:', layout=Layout(height='25px', width='50%'),…"
      ]
     },
     "metadata": {},
     "output_type": "display_data"
    }
   ],
   "source": [
    "model = MobileNetV2(\n",
    "    weights='imagenet',\n",
    "    include_top=True,\n",
    "    input_shape=(224, 224, 3)\n",
    ")"
   ]
  },
  {
   "cell_type": "code",
   "execution_count": 29,
   "id": "b3794669",
   "metadata": {},
   "outputs": [
    {
     "data": {
      "application/vnd.jupyter.widget-view+json": {
       "model_id": "",
       "version_major": 2,
       "version_minor": 0
      },
      "text/plain": [
       "FloatProgress(value=0.0, bar_style='info', description='Progress:', layout=Layout(height='25px', width='50%'),…"
      ]
     },
     "metadata": {},
     "output_type": "display_data"
    }
   ],
   "source": [
    "new_model = Model(\n",
    "    inputs=model.input,\n",
    "    outputs=model.layers[-2].output\n",
    ")"
   ]
  },
  {
   "cell_type": "code",
   "execution_count": 30,
   "id": "1963676a",
   "metadata": {},
   "outputs": [
    {
     "data": {
      "application/vnd.jupyter.widget-view+json": {
       "model_id": "",
       "version_major": 2,
       "version_minor": 0
      },
      "text/plain": [
       "FloatProgress(value=0.0, bar_style='info', description='Progress:', layout=Layout(height='25px', width='50%'),…"
      ]
     },
     "metadata": {},
     "output_type": "display_data"
    },
    {
     "name": "stdout",
     "output_type": "stream",
     "text": [
      "Model: \"functional_1\"\n",
      "┏━━━━━━━━━━━━━━━━━━━━━┳━━━━━━━━━━━━━━━━━━━┳━━━━━━━━━━━━┳━━━━━━━━━━━━━━━━━━━┓\n",
      "┃ Layer (type)        ┃ Output Shape      ┃    Param # ┃ Connected to      ┃\n",
      "┡━━━━━━━━━━━━━━━━━━━━━╇━━━━━━━━━━━━━━━━━━━╇━━━━━━━━━━━━╇━━━━━━━━━━━━━━━━━━━┩\n",
      "│ input_layer_1       │ (None, 224, 224,  │          0 │ -                 │\n",
      "│ (InputLayer)        │ 3)                │            │                   │\n",
      "├─────────────────────┼───────────────────┼────────────┼───────────────────┤\n",
      "│ Conv1 (Conv2D)      │ (None, 112, 112,  │        864 │ input_layer_1[0]… │\n",
      "│                     │ 32)               │            │                   │\n",
      "├─────────────────────┼───────────────────┼────────────┼───────────────────┤\n",
      "│ bn_Conv1            │ (None, 112, 112,  │        128 │ Conv1[0][0]       │\n",
      "│ (BatchNormalizatio… │ 32)               │            │                   │\n",
      "├─────────────────────┼───────────────────┼────────────┼───────────────────┤\n",
      "│ Conv1_relu (ReLU)   │ (None, 112, 112,  │          0 │ bn_Conv1[0][0]    │\n",
      "│                     │ 32)               │            │                   │\n",
      "├─────────────────────┼───────────────────┼────────────┼───────────────────┤\n",
      "│ expanded_conv_dept… │ (None, 112, 112,  │        288 │ Conv1_relu[0][0]  │\n",
      "│ (DepthwiseConv2D)   │ 32)               │            │                   │\n",
      "├─────────────────────┼───────────────────┼────────────┼───────────────────┤\n",
      "│ expanded_conv_dept… │ (None, 112, 112,  │        128 │ expanded_conv_de… │\n",
      "│ (BatchNormalizatio… │ 32)               │            │                   │\n",
      "├─────────────────────┼───────────────────┼────────────┼───────────────────┤\n",
      "│ expanded_conv_dept… │ (None, 112, 112,  │          0 │ expanded_conv_de… │\n",
      "│ (ReLU)              │ 32)               │            │                   │\n",
      "├─────────────────────┼───────────────────┼────────────┼───────────────────┤\n",
      "│ expanded_conv_proj… │ (None, 112, 112,  │        512 │ expanded_conv_de… │\n",
      "│ (Conv2D)            │ 16)               │            │                   │\n",
      "├─────────────────────┼───────────────────┼────────────┼───────────────────┤\n",
      "│ expanded_conv_proj… │ (None, 112, 112,  │         64 │ expanded_conv_pr… │\n",
      "│ (BatchNormalizatio… │ 16)               │            │                   │\n",
      "├─────────────────────┼───────────────────┼────────────┼───────────────────┤\n",
      "│ block_1_expand      │ (None, 112, 112,  │      1,536 │ expanded_conv_pr… │\n",
      "│ (Conv2D)            │ 96)               │            │                   │\n",
      "├─────────────────────┼───────────────────┼────────────┼───────────────────┤\n",
      "│ block_1_expand_BN   │ (None, 112, 112,  │        384 │ block_1_expand[0… │\n",
      "│ (BatchNormalizatio… │ 96)               │            │                   │\n",
      "├─────────────────────┼───────────────────┼────────────┼───────────────────┤\n",
      "│ block_1_expand_relu │ (None, 112, 112,  │          0 │ block_1_expand_B… │\n",
      "│ (ReLU)              │ 96)               │            │                   │\n",
      "├─────────────────────┼───────────────────┼────────────┼───────────────────┤\n",
      "│ block_1_pad         │ (None, 113, 113,  │          0 │ block_1_expand_r… │\n",
      "│ (ZeroPadding2D)     │ 96)               │            │                   │\n",
      "├─────────────────────┼───────────────────┼────────────┼───────────────────┤\n",
      "│ block_1_depthwise   │ (None, 56, 56,    │        864 │ block_1_pad[0][0] │\n",
      "│ (DepthwiseConv2D)   │ 96)               │            │                   │\n",
      "├─────────────────────┼───────────────────┼────────────┼───────────────────┤\n",
      "│ block_1_depthwise_… │ (None, 56, 56,    │        384 │ block_1_depthwis… │\n",
      "│ (BatchNormalizatio… │ 96)               │            │                   │\n",
      "├─────────────────────┼───────────────────┼────────────┼───────────────────┤\n",
      "│ block_1_depthwise_… │ (None, 56, 56,    │          0 │ block_1_depthwis… │\n",
      "│ (ReLU)              │ 96)               │            │                   │\n",
      "├─────────────────────┼───────────────────┼────────────┼───────────────────┤\n",
      "│ block_1_project     │ (None, 56, 56,    │      2,304 │ block_1_depthwis… │\n",
      "│ (Conv2D)            │ 24)               │            │                   │\n",
      "├─────────────────────┼───────────────────┼────────────┼───────────────────┤\n",
      "│ block_1_project_BN  │ (None, 56, 56,    │         96 │ block_1_project[… │\n",
      "│ (BatchNormalizatio… │ 24)               │            │                   │\n",
      "├─────────────────────┼───────────────────┼────────────┼───────────────────┤\n",
      "│ block_2_expand      │ (None, 56, 56,    │      3,456 │ block_1_project_… │\n",
      "│ (Conv2D)            │ 144)              │            │                   │\n",
      "├─────────────────────┼───────────────────┼────────────┼───────────────────┤\n",
      "│ block_2_expand_BN   │ (None, 56, 56,    │        576 │ block_2_expand[0… │\n",
      "│ (BatchNormalizatio… │ 144)              │            │                   │\n",
      "├─────────────────────┼───────────────────┼────────────┼───────────────────┤\n",
      "│ block_2_expand_relu │ (None, 56, 56,    │          0 │ block_2_expand_B… │\n",
      "│ (ReLU)              │ 144)              │            │                   │\n",
      "├─────────────────────┼───────────────────┼────────────┼───────────────────┤\n",
      "│ block_2_depthwise   │ (None, 56, 56,    │      1,296 │ block_2_expand_r… │\n",
      "│ (DepthwiseConv2D)   │ 144)              │            │                   │\n",
      "├─────────────────────┼───────────────────┼────────────┼───────────────────┤\n",
      "│ block_2_depthwise_… │ (None, 56, 56,    │        576 │ block_2_depthwis… │\n",
      "│ (BatchNormalizatio… │ 144)              │            │                   │\n",
      "├─────────────────────┼───────────────────┼────────────┼───────────────────┤\n",
      "│ block_2_depthwise_… │ (None, 56, 56,    │          0 │ block_2_depthwis… │\n",
      "│ (ReLU)              │ 144)              │            │                   │\n",
      "├─────────────────────┼───────────────────┼────────────┼───────────────────┤\n",
      "│ block_2_project     │ (None, 56, 56,    │      3,456 │ block_2_depthwis… │\n",
      "│ (Conv2D)            │ 24)               │            │                   │\n",
      "├─────────────────────┼───────────────────┼────────────┼───────────────────┤\n",
      "│ block_2_project_BN  │ (None, 56, 56,    │         96 │ block_2_project[… │\n",
      "│ (BatchNormalizatio… │ 24)               │            │                   │\n",
      "├─────────────────────┼───────────────────┼────────────┼───────────────────┤\n",
      "│ block_2_add (Add)   │ (None, 56, 56,    │          0 │ block_1_project_… │\n",
      "│                     │ 24)               │            │ block_2_project_… │\n",
      "├─────────────────────┼───────────────────┼────────────┼───────────────────┤\n",
      "│ block_3_expand      │ (None, 56, 56,    │      3,456 │ block_2_add[0][0] │\n",
      "│ (Conv2D)            │ 144)              │            │                   │\n",
      "├─────────────────────┼───────────────────┼────────────┼───────────────────┤\n",
      "│ block_3_expand_BN   │ (None, 56, 56,    │        576 │ block_3_expand[0… │\n",
      "│ (BatchNormalizatio… │ 144)              │            │                   │\n",
      "├─────────────────────┼───────────────────┼────────────┼───────────────────┤\n",
      "│ block_3_expand_relu │ (None, 56, 56,    │          0 │ block_3_expand_B… │\n",
      "│ (ReLU)              │ 144)              │            │                   │\n",
      "├─────────────────────┼───────────────────┼────────────┼───────────────────┤\n",
      "│ block_3_pad         │ (None, 57, 57,    │          0 │ block_3_expand_r… │\n",
      "│ (ZeroPadding2D)     │ 144)              │            │                   │\n",
      "├─────────────────────┼───────────────────┼────────────┼───────────────────┤\n",
      "│ block_3_depthwise   │ (None, 28, 28,    │      1,296 │ block_3_pad[0][0] │\n",
      "│ (DepthwiseConv2D)   │ 144)              │            │                   │\n",
      "├─────────────────────┼───────────────────┼────────────┼───────────────────┤\n",
      "│ block_3_depthwise_… │ (None, 28, 28,    │        576 │ block_3_depthwis… │\n",
      "│ (BatchNormalizatio… │ 144)              │            │                   │\n",
      "├─────────────────────┼───────────────────┼────────────┼───────────────────┤\n",
      "│ block_3_depthwise_… │ (None, 28, 28,    │          0 │ block_3_depthwis… │\n",
      "│ (ReLU)              │ 144)              │            │                   │\n",
      "├─────────────────────┼───────────────────┼────────────┼───────────────────┤\n",
      "│ block_3_project     │ (None, 28, 28,    │      4,608 │ block_3_depthwis… │\n",
      "│ (Conv2D)            │ 32)               │            │                   │\n",
      "├─────────────────────┼───────────────────┼────────────┼───────────────────┤\n",
      "│ block_3_project_BN  │ (None, 28, 28,    │        128 │ block_3_project[… │\n",
      "│ (BatchNormalizatio… │ 32)               │            │                   │\n",
      "├─────────────────────┼───────────────────┼────────────┼───────────────────┤\n",
      "│ block_4_expand      │ (None, 28, 28,    │      6,144 │ block_3_project_… │\n",
      "│ (Conv2D)            │ 192)              │            │                   │\n",
      "├─────────────────────┼───────────────────┼────────────┼───────────────────┤\n",
      "│ block_4_expand_BN   │ (None, 28, 28,    │        768 │ block_4_expand[0… │\n",
      "│ (BatchNormalizatio… │ 192)              │            │                   │\n",
      "├─────────────────────┼───────────────────┼────────────┼───────────────────┤\n",
      "│ block_4_expand_relu │ (None, 28, 28,    │          0 │ block_4_expand_B… │\n",
      "│ (ReLU)              │ 192)              │            │                   │\n",
      "├─────────────────────┼───────────────────┼────────────┼───────────────────┤\n",
      "│ block_4_depthwise   │ (None, 28, 28,    │      1,728 │ block_4_expand_r… │\n",
      "│ (DepthwiseConv2D)   │ 192)              │            │                   │\n",
      "├─────────────────────┼───────────────────┼────────────┼───────────────────┤\n",
      "│ block_4_depthwise_… │ (None, 28, 28,    │        768 │ block_4_depthwis… │\n",
      "│ (BatchNormalizatio… │ 192)              │            │                   │\n",
      "├─────────────────────┼───────────────────┼────────────┼───────────────────┤\n",
      "│ block_4_depthwise_… │ (None, 28, 28,    │          0 │ block_4_depthwis… │\n",
      "│ (ReLU)              │ 192)              │            │                   │\n",
      "├─────────────────────┼───────────────────┼────────────┼───────────────────┤\n",
      "│ block_4_project     │ (None, 28, 28,    │      6,144 │ block_4_depthwis… │\n",
      "│ (Conv2D)            │ 32)               │            │                   │\n",
      "├─────────────────────┼───────────────────┼────────────┼───────────────────┤\n",
      "│ block_4_project_BN  │ (None, 28, 28,    │        128 │ block_4_project[… │\n",
      "│ (BatchNormalizatio… │ 32)               │            │                   │\n",
      "├─────────────────────┼───────────────────┼────────────┼───────────────────┤\n",
      "│ block_4_add (Add)   │ (None, 28, 28,    │          0 │ block_3_project_… │\n",
      "│                     │ 32)               │            │ block_4_project_… │\n",
      "├─────────────────────┼───────────────────┼────────────┼───────────────────┤\n",
      "│ block_5_expand      │ (None, 28, 28,    │      6,144 │ block_4_add[0][0] │\n",
      "│ (Conv2D)            │ 192)              │            │                   │\n",
      "├─────────────────────┼───────────────────┼────────────┼───────────────────┤\n",
      "│ block_5_expand_BN   │ (None, 28, 28,    │        768 │ block_5_expand[0… │\n",
      "│ (BatchNormalizatio… │ 192)              │            │                   │\n",
      "├─────────────────────┼───────────────────┼────────────┼───────────────────┤\n",
      "│ block_5_expand_relu │ (None, 28, 28,    │          0 │ block_5_expand_B… │\n",
      "│ (ReLU)              │ 192)              │            │                   │\n",
      "├─────────────────────┼───────────────────┼────────────┼───────────────────┤\n",
      "│ block_5_depthwise   │ (None, 28, 28,    │      1,728 │ block_5_expand_r… │\n",
      "│ (DepthwiseConv2D)   │ 192)              │            │                   │\n",
      "├─────────────────────┼───────────────────┼────────────┼───────────────────┤\n",
      "│ block_5_depthwise_… │ (None, 28, 28,    │        768 │ block_5_depthwis… │\n",
      "│ (BatchNormalizatio… │ 192)              │            │                   │\n",
      "├─────────────────────┼───────────────────┼────────────┼───────────────────┤\n",
      "│ block_5_depthwise_… │ (None, 28, 28,    │          0 │ block_5_depthwis… │\n",
      "│ (ReLU)              │ 192)              │            │                   │\n",
      "├─────────────────────┼───────────────────┼────────────┼───────────────────┤\n",
      "│ block_5_project     │ (None, 28, 28,    │      6,144 │ block_5_depthwis… │\n",
      "│ (Conv2D)            │ 32)               │            │                   │\n",
      "├─────────────────────┼───────────────────┼────────────┼───────────────────┤\n",
      "│ block_5_project_BN  │ (None, 28, 28,    │        128 │ block_5_project[… │\n",
      "│ (BatchNormalizatio… │ 32)               │            │                   │\n",
      "├─────────────────────┼───────────────────┼────────────┼───────────────────┤\n",
      "│ block_5_add (Add)   │ (None, 28, 28,    │          0 │ block_4_add[0][0… │\n",
      "│                     │ 32)               │            │ block_5_project_… │\n",
      "├─────────────────────┼───────────────────┼────────────┼───────────────────┤\n",
      "│ block_6_expand      │ (None, 28, 28,    │      6,144 │ block_5_add[0][0] │\n",
      "│ (Conv2D)            │ 192)              │            │                   │\n",
      "├─────────────────────┼───────────────────┼────────────┼───────────────────┤\n",
      "│ block_6_expand_BN   │ (None, 28, 28,    │        768 │ block_6_expand[0… │\n",
      "│ (BatchNormalizatio… │ 192)              │            │                   │\n",
      "├─────────────────────┼───────────────────┼────────────┼───────────────────┤\n",
      "│ block_6_expand_relu │ (None, 28, 28,    │          0 │ block_6_expand_B… │\n",
      "│ (ReLU)              │ 192)              │            │                   │\n",
      "├─────────────────────┼───────────────────┼────────────┼───────────────────┤\n",
      "│ block_6_pad         │ (None, 29, 29,    │          0 │ block_6_expand_r… │\n",
      "│ (ZeroPadding2D)     │ 192)              │            │                   │\n",
      "├─────────────────────┼───────────────────┼────────────┼───────────────────┤\n",
      "│ block_6_depthwise   │ (None, 14, 14,    │      1,728 │ block_6_pad[0][0] │\n",
      "│ (DepthwiseConv2D)   │ 192)              │            │                   │\n",
      "├─────────────────────┼───────────────────┼────────────┼───────────────────┤\n",
      "│ block_6_depthwise_… │ (None, 14, 14,    │        768 │ block_6_depthwis… │\n",
      "│ (BatchNormalizatio… │ 192)              │            │                   │\n",
      "├─────────────────────┼───────────────────┼────────────┼───────────────────┤\n",
      "│ block_6_depthwise_… │ (None, 14, 14,    │          0 │ block_6_depthwis… │\n",
      "│ (ReLU)              │ 192)              │            │                   │\n",
      "├─────────────────────┼───────────────────┼────────────┼───────────────────┤\n",
      "│ block_6_project     │ (None, 14, 14,    │     12,288 │ block_6_depthwis… │\n",
      "│ (Conv2D)            │ 64)               │            │                   │\n",
      "├─────────────────────┼───────────────────┼────────────┼───────────────────┤\n",
      "│ block_6_project_BN  │ (None, 14, 14,    │        256 │ block_6_project[… │\n",
      "│ (BatchNormalizatio… │ 64)               │            │                   │\n",
      "├─────────────────────┼───────────────────┼────────────┼───────────────────┤\n",
      "│ block_7_expand      │ (None, 14, 14,    │     24,576 │ block_6_project_… │\n",
      "│ (Conv2D)            │ 384)              │            │                   │\n",
      "├─────────────────────┼───────────────────┼────────────┼───────────────────┤\n",
      "│ block_7_expand_BN   │ (None, 14, 14,    │      1,536 │ block_7_expand[0… │\n",
      "│ (BatchNormalizatio… │ 384)              │            │                   │\n",
      "├─────────────────────┼───────────────────┼────────────┼───────────────────┤\n",
      "│ block_7_expand_relu │ (None, 14, 14,    │          0 │ block_7_expand_B… │\n",
      "│ (ReLU)              │ 384)              │            │                   │\n",
      "├─────────────────────┼───────────────────┼────────────┼───────────────────┤\n",
      "│ block_7_depthwise   │ (None, 14, 14,    │      3,456 │ block_7_expand_r… │\n",
      "│ (DepthwiseConv2D)   │ 384)              │            │                   │\n",
      "├─────────────────────┼───────────────────┼────────────┼───────────────────┤\n",
      "│ block_7_depthwise_… │ (None, 14, 14,    │      1,536 │ block_7_depthwis… │\n",
      "│ (BatchNormalizatio… │ 384)              │            │                   │\n",
      "├─────────────────────┼───────────────────┼────────────┼───────────────────┤\n",
      "│ block_7_depthwise_… │ (None, 14, 14,    │          0 │ block_7_depthwis… │\n",
      "│ (ReLU)              │ 384)              │            │                   │\n",
      "├─────────────────────┼───────────────────┼────────────┼───────────────────┤\n",
      "│ block_7_project     │ (None, 14, 14,    │     24,576 │ block_7_depthwis… │\n",
      "│ (Conv2D)            │ 64)               │            │                   │\n",
      "├─────────────────────┼───────────────────┼────────────┼───────────────────┤\n",
      "│ block_7_project_BN  │ (None, 14, 14,    │        256 │ block_7_project[… │\n",
      "│ (BatchNormalizatio… │ 64)               │            │                   │\n",
      "├─────────────────────┼───────────────────┼────────────┼───────────────────┤\n",
      "│ block_7_add (Add)   │ (None, 14, 14,    │          0 │ block_6_project_… │\n",
      "│                     │ 64)               │            │ block_7_project_… │\n",
      "├─────────────────────┼───────────────────┼────────────┼───────────────────┤\n",
      "│ block_8_expand      │ (None, 14, 14,    │     24,576 │ block_7_add[0][0] │\n",
      "│ (Conv2D)            │ 384)              │            │                   │\n",
      "├─────────────────────┼───────────────────┼────────────┼───────────────────┤\n",
      "│ block_8_expand_BN   │ (None, 14, 14,    │      1,536 │ block_8_expand[0… │\n",
      "│ (BatchNormalizatio… │ 384)              │            │                   │\n",
      "├─────────────────────┼───────────────────┼────────────┼───────────────────┤\n",
      "│ block_8_expand_relu │ (None, 14, 14,    │          0 │ block_8_expand_B… │\n",
      "│ (ReLU)              │ 384)              │            │                   │\n",
      "├─────────────────────┼───────────────────┼────────────┼───────────────────┤\n",
      "│ block_8_depthwise   │ (None, 14, 14,    │      3,456 │ block_8_expand_r… │\n",
      "│ (DepthwiseConv2D)   │ 384)              │            │                   │\n",
      "├─────────────────────┼───────────────────┼────────────┼───────────────────┤\n",
      "│ block_8_depthwise_… │ (None, 14, 14,    │      1,536 │ block_8_depthwis… │\n",
      "│ (BatchNormalizatio… │ 384)              │            │                   │\n",
      "├─────────────────────┼───────────────────┼────────────┼───────────────────┤\n",
      "│ block_8_depthwise_… │ (None, 14, 14,    │          0 │ block_8_depthwis… │\n",
      "│ (ReLU)              │ 384)              │            │                   │\n",
      "├─────────────────────┼───────────────────┼────────────┼───────────────────┤\n",
      "│ block_8_project     │ (None, 14, 14,    │     24,576 │ block_8_depthwis… │\n",
      "│ (Conv2D)            │ 64)               │            │                   │\n",
      "├─────────────────────┼───────────────────┼────────────┼───────────────────┤\n",
      "│ block_8_project_BN  │ (None, 14, 14,    │        256 │ block_8_project[… │\n",
      "│ (BatchNormalizatio… │ 64)               │            │                   │\n",
      "├─────────────────────┼───────────────────┼────────────┼───────────────────┤\n",
      "│ block_8_add (Add)   │ (None, 14, 14,    │          0 │ block_7_add[0][0… │\n",
      "│                     │ 64)               │            │ block_8_project_… │\n",
      "├─────────────────────┼───────────────────┼────────────┼───────────────────┤\n",
      "│ block_9_expand      │ (None, 14, 14,    │     24,576 │ block_8_add[0][0] │\n",
      "│ (Conv2D)            │ 384)              │            │                   │\n",
      "├─────────────────────┼───────────────────┼────────────┼───────────────────┤\n",
      "│ block_9_expand_BN   │ (None, 14, 14,    │      1,536 │ block_9_expand[0… │\n",
      "│ (BatchNormalizatio… │ 384)              │            │                   │\n",
      "├─────────────────────┼───────────────────┼────────────┼───────────────────┤\n",
      "│ block_9_expand_relu │ (None, 14, 14,    │          0 │ block_9_expand_B… │\n",
      "│ (ReLU)              │ 384)              │            │                   │\n",
      "├─────────────────────┼───────────────────┼────────────┼───────────────────┤\n",
      "│ block_9_depthwise   │ (None, 14, 14,    │      3,456 │ block_9_expand_r… │\n",
      "│ (DepthwiseConv2D)   │ 384)              │            │                   │\n",
      "├─────────────────────┼───────────────────┼────────────┼───────────────────┤\n",
      "│ block_9_depthwise_… │ (None, 14, 14,    │      1,536 │ block_9_depthwis… │\n",
      "│ (BatchNormalizatio… │ 384)              │            │                   │\n",
      "├─────────────────────┼───────────────────┼────────────┼───────────────────┤\n",
      "│ block_9_depthwise_… │ (None, 14, 14,    │          0 │ block_9_depthwis… │\n",
      "│ (ReLU)              │ 384)              │            │                   │\n",
      "├─────────────────────┼───────────────────┼────────────┼───────────────────┤\n",
      "│ block_9_project     │ (None, 14, 14,    │     24,576 │ block_9_depthwis… │\n",
      "│ (Conv2D)            │ 64)               │            │                   │\n",
      "├─────────────────────┼───────────────────┼────────────┼───────────────────┤\n",
      "│ block_9_project_BN  │ (None, 14, 14,    │        256 │ block_9_project[… │\n",
      "│ (BatchNormalizatio… │ 64)               │            │                   │\n",
      "├─────────────────────┼───────────────────┼────────────┼───────────────────┤\n",
      "│ block_9_add (Add)   │ (None, 14, 14,    │          0 │ block_8_add[0][0… │\n",
      "│                     │ 64)               │            │ block_9_project_… │\n",
      "├─────────────────────┼───────────────────┼────────────┼───────────────────┤\n",
      "│ block_10_expand     │ (None, 14, 14,    │     24,576 │ block_9_add[0][0] │\n",
      "│ (Conv2D)            │ 384)              │            │                   │\n",
      "├─────────────────────┼───────────────────┼────────────┼───────────────────┤\n",
      "│ block_10_expand_BN  │ (None, 14, 14,    │      1,536 │ block_10_expand[… │\n",
      "│ (BatchNormalizatio… │ 384)              │            │                   │\n",
      "├─────────────────────┼───────────────────┼────────────┼───────────────────┤\n",
      "│ block_10_expand_re… │ (None, 14, 14,    │          0 │ block_10_expand_… │\n",
      "│ (ReLU)              │ 384)              │            │                   │\n",
      "├─────────────────────┼───────────────────┼────────────┼───────────────────┤\n",
      "│ block_10_depthwise  │ (None, 14, 14,    │      3,456 │ block_10_expand_… │\n",
      "│ (DepthwiseConv2D)   │ 384)              │            │                   │\n",
      "├─────────────────────┼───────────────────┼────────────┼───────────────────┤\n",
      "│ block_10_depthwise… │ (None, 14, 14,    │      1,536 │ block_10_depthwi… │\n",
      "│ (BatchNormalizatio… │ 384)              │            │                   │\n",
      "├─────────────────────┼───────────────────┼────────────┼───────────────────┤\n",
      "│ block_10_depthwise… │ (None, 14, 14,    │          0 │ block_10_depthwi… │\n",
      "│ (ReLU)              │ 384)              │            │                   │\n",
      "├─────────────────────┼───────────────────┼────────────┼───────────────────┤\n",
      "│ block_10_project    │ (None, 14, 14,    │     36,864 │ block_10_depthwi… │\n",
      "│ (Conv2D)            │ 96)               │            │                   │\n",
      "├─────────────────────┼───────────────────┼────────────┼───────────────────┤\n",
      "│ block_10_project_BN │ (None, 14, 14,    │        384 │ block_10_project… │\n",
      "│ (BatchNormalizatio… │ 96)               │            │                   │\n",
      "├─────────────────────┼───────────────────┼────────────┼───────────────────┤\n",
      "│ block_11_expand     │ (None, 14, 14,    │     55,296 │ block_10_project… │\n",
      "│ (Conv2D)            │ 576)              │            │                   │\n",
      "├─────────────────────┼───────────────────┼────────────┼───────────────────┤\n",
      "│ block_11_expand_BN  │ (None, 14, 14,    │      2,304 │ block_11_expand[… │\n",
      "│ (BatchNormalizatio… │ 576)              │            │                   │\n",
      "├─────────────────────┼───────────────────┼────────────┼───────────────────┤\n",
      "│ block_11_expand_re… │ (None, 14, 14,    │          0 │ block_11_expand_… │\n",
      "│ (ReLU)              │ 576)              │            │                   │\n",
      "├─────────────────────┼───────────────────┼────────────┼───────────────────┤\n",
      "│ block_11_depthwise  │ (None, 14, 14,    │      5,184 │ block_11_expand_… │\n",
      "│ (DepthwiseConv2D)   │ 576)              │            │                   │\n",
      "├─────────────────────┼───────────────────┼────────────┼───────────────────┤\n",
      "│ block_11_depthwise… │ (None, 14, 14,    │      2,304 │ block_11_depthwi… │\n",
      "│ (BatchNormalizatio… │ 576)              │            │                   │\n",
      "├─────────────────────┼───────────────────┼────────────┼───────────────────┤\n",
      "│ block_11_depthwise… │ (None, 14, 14,    │          0 │ block_11_depthwi… │\n",
      "│ (ReLU)              │ 576)              │            │                   │\n",
      "├─────────────────────┼───────────────────┼────────────┼───────────────────┤\n",
      "│ block_11_project    │ (None, 14, 14,    │     55,296 │ block_11_depthwi… │\n",
      "│ (Conv2D)            │ 96)               │            │                   │\n",
      "├─────────────────────┼───────────────────┼────────────┼───────────────────┤\n",
      "│ block_11_project_BN │ (None, 14, 14,    │        384 │ block_11_project… │\n",
      "│ (BatchNormalizatio… │ 96)               │            │                   │\n",
      "├─────────────────────┼───────────────────┼────────────┼───────────────────┤\n",
      "│ block_11_add (Add)  │ (None, 14, 14,    │          0 │ block_10_project… │\n",
      "│                     │ 96)               │            │ block_11_project… │\n",
      "├─────────────────────┼───────────────────┼────────────┼───────────────────┤\n",
      "│ block_12_expand     │ (None, 14, 14,    │     55,296 │ block_11_add[0][… │\n",
      "│ (Conv2D)            │ 576)              │            │                   │\n",
      "├─────────────────────┼───────────────────┼────────────┼───────────────────┤\n",
      "│ block_12_expand_BN  │ (None, 14, 14,    │      2,304 │ block_12_expand[… │\n",
      "│ (BatchNormalizatio… │ 576)              │            │                   │\n",
      "├─────────────────────┼───────────────────┼────────────┼───────────────────┤\n",
      "│ block_12_expand_re… │ (None, 14, 14,    │          0 │ block_12_expand_… │\n",
      "│ (ReLU)              │ 576)              │            │                   │\n",
      "├─────────────────────┼───────────────────┼────────────┼───────────────────┤\n",
      "│ block_12_depthwise  │ (None, 14, 14,    │      5,184 │ block_12_expand_… │\n",
      "│ (DepthwiseConv2D)   │ 576)              │            │                   │\n",
      "├─────────────────────┼───────────────────┼────────────┼───────────────────┤\n",
      "│ block_12_depthwise… │ (None, 14, 14,    │      2,304 │ block_12_depthwi… │\n",
      "│ (BatchNormalizatio… │ 576)              │            │                   │\n",
      "├─────────────────────┼───────────────────┼────────────┼───────────────────┤\n",
      "│ block_12_depthwise… │ (None, 14, 14,    │          0 │ block_12_depthwi… │\n",
      "│ (ReLU)              │ 576)              │            │                   │\n",
      "├─────────────────────┼───────────────────┼────────────┼───────────────────┤\n",
      "│ block_12_project    │ (None, 14, 14,    │     55,296 │ block_12_depthwi… │\n",
      "│ (Conv2D)            │ 96)               │            │                   │\n",
      "├─────────────────────┼───────────────────┼────────────┼───────────────────┤\n",
      "│ block_12_project_BN │ (None, 14, 14,    │        384 │ block_12_project… │\n",
      "│ (BatchNormalizatio… │ 96)               │            │                   │\n",
      "├─────────────────────┼───────────────────┼────────────┼───────────────────┤\n",
      "│ block_12_add (Add)  │ (None, 14, 14,    │          0 │ block_11_add[0][… │\n",
      "│                     │ 96)               │            │ block_12_project… │\n",
      "├─────────────────────┼───────────────────┼────────────┼───────────────────┤\n",
      "│ block_13_expand     │ (None, 14, 14,    │     55,296 │ block_12_add[0][… │\n",
      "│ (Conv2D)            │ 576)              │            │                   │\n",
      "├─────────────────────┼───────────────────┼────────────┼───────────────────┤\n",
      "│ block_13_expand_BN  │ (None, 14, 14,    │      2,304 │ block_13_expand[… │\n",
      "│ (BatchNormalizatio… │ 576)              │            │                   │\n",
      "├─────────────────────┼───────────────────┼────────────┼───────────────────┤\n",
      "│ block_13_expand_re… │ (None, 14, 14,    │          0 │ block_13_expand_… │\n",
      "│ (ReLU)              │ 576)              │            │                   │\n",
      "├─────────────────────┼───────────────────┼────────────┼───────────────────┤\n",
      "│ block_13_pad        │ (None, 15, 15,    │          0 │ block_13_expand_… │\n",
      "│ (ZeroPadding2D)     │ 576)              │            │                   │\n",
      "├─────────────────────┼───────────────────┼────────────┼───────────────────┤\n",
      "│ block_13_depthwise  │ (None, 7, 7, 576) │      5,184 │ block_13_pad[0][… │\n",
      "│ (DepthwiseConv2D)   │                   │            │                   │\n",
      "├─────────────────────┼───────────────────┼────────────┼───────────────────┤\n",
      "│ block_13_depthwise… │ (None, 7, 7, 576) │      2,304 │ block_13_depthwi… │\n",
      "│ (BatchNormalizatio… │                   │            │                   │\n",
      "├─────────────────────┼───────────────────┼────────────┼───────────────────┤\n",
      "│ block_13_depthwise… │ (None, 7, 7, 576) │          0 │ block_13_depthwi… │\n",
      "│ (ReLU)              │                   │            │                   │\n",
      "├─────────────────────┼───────────────────┼────────────┼───────────────────┤\n",
      "│ block_13_project    │ (None, 7, 7, 160) │     92,160 │ block_13_depthwi… │\n",
      "│ (Conv2D)            │                   │            │                   │\n",
      "├─────────────────────┼───────────────────┼────────────┼───────────────────┤\n",
      "│ block_13_project_BN │ (None, 7, 7, 160) │        640 │ block_13_project… │\n",
      "│ (BatchNormalizatio… │                   │            │                   │\n",
      "├─────────────────────┼───────────────────┼────────────┼───────────────────┤\n",
      "│ block_14_expand     │ (None, 7, 7, 960) │    153,600 │ block_13_project… │\n",
      "│ (Conv2D)            │                   │            │                   │\n",
      "├─────────────────────┼───────────────────┼────────────┼───────────────────┤\n",
      "│ block_14_expand_BN  │ (None, 7, 7, 960) │      3,840 │ block_14_expand[… │\n",
      "│ (BatchNormalizatio… │                   │            │                   │\n",
      "├─────────────────────┼───────────────────┼────────────┼───────────────────┤\n",
      "│ block_14_expand_re… │ (None, 7, 7, 960) │          0 │ block_14_expand_… │\n",
      "│ (ReLU)              │                   │            │                   │\n",
      "├─────────────────────┼───────────────────┼────────────┼───────────────────┤\n",
      "│ block_14_depthwise  │ (None, 7, 7, 960) │      8,640 │ block_14_expand_… │\n",
      "│ (DepthwiseConv2D)   │                   │            │                   │\n",
      "├─────────────────────┼───────────────────┼────────────┼───────────────────┤\n",
      "│ block_14_depthwise… │ (None, 7, 7, 960) │      3,840 │ block_14_depthwi… │\n",
      "│ (BatchNormalizatio… │                   │            │                   │\n",
      "├─────────────────────┼───────────────────┼────────────┼───────────────────┤\n",
      "│ block_14_depthwise… │ (None, 7, 7, 960) │          0 │ block_14_depthwi… │\n",
      "│ (ReLU)              │                   │            │                   │\n",
      "├─────────────────────┼───────────────────┼────────────┼───────────────────┤\n",
      "│ block_14_project    │ (None, 7, 7, 160) │    153,600 │ block_14_depthwi… │\n",
      "│ (Conv2D)            │                   │            │                   │\n",
      "├─────────────────────┼───────────────────┼────────────┼───────────────────┤\n",
      "│ block_14_project_BN │ (None, 7, 7, 160) │        640 │ block_14_project… │\n",
      "│ (BatchNormalizatio… │                   │            │                   │\n",
      "├─────────────────────┼───────────────────┼────────────┼───────────────────┤\n",
      "│ block_14_add (Add)  │ (None, 7, 7, 160) │          0 │ block_13_project… │\n",
      "│                     │                   │            │ block_14_project… │\n",
      "├─────────────────────┼───────────────────┼────────────┼───────────────────┤\n",
      "│ block_15_expand     │ (None, 7, 7, 960) │    153,600 │ block_14_add[0][… │\n",
      "│ (Conv2D)            │                   │            │                   │\n",
      "├─────────────────────┼───────────────────┼────────────┼───────────────────┤\n",
      "│ block_15_expand_BN  │ (None, 7, 7, 960) │      3,840 │ block_15_expand[… │\n",
      "│ (BatchNormalizatio… │                   │            │                   │\n",
      "├─────────────────────┼───────────────────┼────────────┼───────────────────┤\n",
      "│ block_15_expand_re… │ (None, 7, 7, 960) │          0 │ block_15_expand_… │\n",
      "│ (ReLU)              │                   │            │                   │\n",
      "├─────────────────────┼───────────────────┼────────────┼───────────────────┤\n",
      "│ block_15_depthwise  │ (None, 7, 7, 960) │      8,640 │ block_15_expand_… │\n",
      "│ (DepthwiseConv2D)   │                   │            │                   │\n",
      "├─────────────────────┼───────────────────┼────────────┼───────────────────┤\n",
      "│ block_15_depthwise… │ (None, 7, 7, 960) │      3,840 │ block_15_depthwi… │\n",
      "│ (BatchNormalizatio… │                   │            │                   │\n",
      "├─────────────────────┼───────────────────┼────────────┼───────────────────┤\n",
      "│ block_15_depthwise… │ (None, 7, 7, 960) │          0 │ block_15_depthwi… │\n",
      "│ (ReLU)              │                   │            │                   │\n",
      "├─────────────────────┼───────────────────┼────────────┼───────────────────┤\n",
      "│ block_15_project    │ (None, 7, 7, 160) │    153,600 │ block_15_depthwi… │\n",
      "│ (Conv2D)            │                   │            │                   │\n",
      "├─────────────────────┼───────────────────┼────────────┼───────────────────┤\n",
      "│ block_15_project_BN │ (None, 7, 7, 160) │        640 │ block_15_project… │\n",
      "│ (BatchNormalizatio… │                   │            │                   │\n",
      "├─────────────────────┼───────────────────┼────────────┼───────────────────┤\n",
      "│ block_15_add (Add)  │ (None, 7, 7, 160) │          0 │ block_14_add[0][… │\n",
      "│                     │                   │            │ block_15_project… │\n",
      "├─────────────────────┼───────────────────┼────────────┼───────────────────┤\n",
      "│ block_16_expand     │ (None, 7, 7, 960) │    153,600 │ block_15_add[0][… │\n",
      "│ (Conv2D)            │                   │            │                   │\n",
      "├─────────────────────┼───────────────────┼────────────┼───────────────────┤\n",
      "│ block_16_expand_BN  │ (None, 7, 7, 960) │      3,840 │ block_16_expand[… │\n",
      "│ (BatchNormalizatio… │                   │            │                   │\n",
      "├─────────────────────┼───────────────────┼────────────┼───────────────────┤\n",
      "│ block_16_expand_re… │ (None, 7, 7, 960) │          0 │ block_16_expand_… │\n",
      "│ (ReLU)              │                   │            │                   │\n",
      "├─────────────────────┼───────────────────┼────────────┼───────────────────┤\n",
      "│ block_16_depthwise  │ (None, 7, 7, 960) │      8,640 │ block_16_expand_… │\n",
      "│ (DepthwiseConv2D)   │                   │            │                   │\n",
      "├─────────────────────┼───────────────────┼────────────┼───────────────────┤\n",
      "│ block_16_depthwise… │ (None, 7, 7, 960) │      3,840 │ block_16_depthwi… │\n",
      "│ (BatchNormalizatio… │                   │            │                   │\n",
      "├─────────────────────┼───────────────────┼────────────┼───────────────────┤\n",
      "│ block_16_depthwise… │ (None, 7, 7, 960) │          0 │ block_16_depthwi… │\n",
      "│ (ReLU)              │                   │            │                   │\n",
      "├─────────────────────┼───────────────────┼────────────┼───────────────────┤\n",
      "│ block_16_project    │ (None, 7, 7, 320) │    307,200 │ block_16_depthwi… │\n",
      "│ (Conv2D)            │                   │            │                   │\n",
      "├─────────────────────┼───────────────────┼────────────┼───────────────────┤\n",
      "│ block_16_project_BN │ (None, 7, 7, 320) │      1,280 │ block_16_project… │\n",
      "│ (BatchNormalizatio… │                   │            │                   │\n",
      "├─────────────────────┼───────────────────┼────────────┼───────────────────┤\n",
      "│ Conv_1 (Conv2D)     │ (None, 7, 7,      │    409,600 │ block_16_project… │\n",
      "│                     │ 1280)             │            │                   │\n",
      "├─────────────────────┼───────────────────┼────────────┼───────────────────┤\n",
      "│ Conv_1_bn           │ (None, 7, 7,      │      5,120 │ Conv_1[0][0]      │\n",
      "│ (BatchNormalizatio… │ 1280)             │            │                   │\n",
      "├─────────────────────┼───────────────────┼────────────┼───────────────────┤\n",
      "│ out_relu (ReLU)     │ (None, 7, 7,      │          0 │ Conv_1_bn[0][0]   │\n",
      "│                     │ 1280)             │            │                   │\n",
      "├─────────────────────┼───────────────────┼────────────┼───────────────────┤\n",
      "│ global_average_poo… │ (None, 1280)      │          0 │ out_relu[0][0]    │\n",
      "│ (GlobalAveragePool… │                   │            │                   │\n",
      "└─────────────────────┴───────────────────┴────────────┴───────────────────┘\n",
      " Total params: 2,257,984 (8.61 MB)\n",
      " Trainable params: 2,223,872 (8.48 MB)\n",
      " Non-trainable params: 34,112 (133.25 KB)"
     ]
    }
   ],
   "source": [
    "new_model.summary()"
   ]
  },
  {
   "cell_type": "code",
   "execution_count": 31,
   "id": "f1b5a0e6",
   "metadata": {},
   "outputs": [
    {
     "data": {
      "application/vnd.jupyter.widget-view+json": {
       "model_id": "",
       "version_major": 2,
       "version_minor": 0
      },
      "text/plain": [
       "FloatProgress(value=0.0, bar_style='info', description='Progress:', layout=Layout(height='25px', width='50%'),…"
      ]
     },
     "metadata": {},
     "output_type": "display_data"
    }
   ],
   "source": [
    "broadcast_weights = sc.broadcast(new_model.get_weights())"
   ]
  },
  {
   "cell_type": "code",
   "execution_count": 32,
   "id": "1b62b009",
   "metadata": {},
   "outputs": [
    {
     "data": {
      "application/vnd.jupyter.widget-view+json": {
       "model_id": "",
       "version_major": 2,
       "version_minor": 0
      },
      "text/plain": [
       "FloatProgress(value=0.0, bar_style='info', description='Progress:', layout=Layout(height='25px', width='50%'),…"
      ]
     },
     "metadata": {},
     "output_type": "display_data"
    }
   ],
   "source": [
    "def model_fn():\n",
    "    \"\"\"\n",
    "    Returns a MobileNetV2 model with top layer removed \n",
    "    and broadcast pretrained weights.\n",
    "    \"\"\"\n",
    "    model = MobileNetV2(\n",
    "        weights='imagenet',\n",
    "        include_top=True,\n",
    "        input_shape=(224, 224, 3)\n",
    "    )\n",
    "    for layer in model.layers:\n",
    "        layer.trainable = False\n",
    "    new_model = Model(\n",
    "        inputs=model.input,\n",
    "        outputs=model.layers[-2].output\n",
    "    )\n",
    "    new_model.set_weights(broadcast_weights.value)\n",
    "    return new_model"
   ]
  },
  {
   "cell_type": "code",
   "execution_count": 33,
   "id": "b32b8b30",
   "metadata": {},
   "outputs": [
    {
     "data": {
      "application/vnd.jupyter.widget-view+json": {
       "model_id": "",
       "version_major": 2,
       "version_minor": 0
      },
      "text/plain": [
       "FloatProgress(value=0.0, bar_style='info', description='Progress:', layout=Layout(height='25px', width='50%'),…"
      ]
     },
     "metadata": {},
     "output_type": "display_data"
    },
    {
     "name": "stdout",
     "output_type": "stream",
     "text": [
      "/mnt/yarn/usercache/livy/appcache/application_1721831311730_0002/container_1721831311730_0002_01_000001/pyspark.zip/pyspark/sql/pandas/functions.py:407: UserWarning: In Python 3.6+ and Spark 3.0+, it is preferred to specify type hints for pandas UDF instead of specifying pandas UDF type which will be deprecated in the future releases. See SPARK-28264 for more details."
     ]
    }
   ],
   "source": [
    "def preprocess(content):\n",
    "    \"\"\"\n",
    "    Preprocesses raw image bytes for prediction.\n",
    "    \"\"\"\n",
    "    img = Image.open(io.BytesIO(content)).resize([224, 224])\n",
    "    arr = img_to_array(img)\n",
    "    return preprocess_input(arr)\n",
    "\n",
    "def featurize_series(model, content_series):\n",
    "    \"\"\"\n",
    "    Featurize a pd.Series of raw images using the input model.\n",
    "    :return: a pd.Series of image features\n",
    "    \"\"\"\n",
    "    input = np.stack(content_series.map(preprocess))\n",
    "    preds = model.predict(input)\n",
    "    # For some layers, output features will be multi-dimensional tensors.\n",
    "    # We flatten the feature tensors to vectors for easier storage in Spark DataFrames.\n",
    "    output = [p.flatten() for p in preds]\n",
    "    return pd.Series(output)\n",
    "\n",
    "@pandas_udf('array<float>', PandasUDFType.SCALAR_ITER)\n",
    "def featurize_udf(content_series_iter):\n",
    "    '''\n",
    "    This method is a Scalar Iterator pandas UDF wrapping our featurization function.\n",
    "    The decorator specifies that this returns a Spark DataFrame column of type ArrayType(FloatType).\n",
    "\n",
    "    :param content_series_iter: This argument is an iterator over batches of data, where each batch\n",
    "                              is a pandas Series of image data.\n",
    "    '''\n",
    "    # With Scalar Iterator pandas UDFs, we can load the model once and then re-use it\n",
    "    # for multiple data batches.  This amortizes the overhead of loading big models.\n",
    "    model = model_fn()\n",
    "    for content_series in content_series_iter:\n",
    "        yield featurize_series(model, content_series)"
   ]
  },
  {
   "cell_type": "code",
   "execution_count": 34,
   "id": "318f30ae",
   "metadata": {},
   "outputs": [
    {
     "data": {
      "application/vnd.jupyter.widget-view+json": {
       "model_id": "",
       "version_major": 2,
       "version_minor": 0
      },
      "text/plain": [
       "FloatProgress(value=0.0, bar_style='info', description='Progress:', layout=Layout(height='25px', width='50%'),…"
      ]
     },
     "metadata": {},
     "output_type": "display_data"
    }
   ],
   "source": [
    "images_with_array_features = images.repartition(20).select(\n",
    "    col(\"path\"),\n",
    "    col(\"label\"),\n",
    "    featurize_udf(\"content\").alias(\"features\")\n",
    ")"
   ]
  },
  {
   "cell_type": "code",
   "execution_count": 35,
   "id": "af3bf469",
   "metadata": {},
   "outputs": [
    {
     "data": {
      "application/vnd.jupyter.widget-view+json": {
       "model_id": "",
       "version_major": 2,
       "version_minor": 0
      },
      "text/plain": [
       "FloatProgress(value=0.0, bar_style='info', description='Progress:', layout=Layout(height='25px', width='50%'),…"
      ]
     },
     "metadata": {},
     "output_type": "display_data"
    }
   ],
   "source": [
    "# Define a UDF to convert ArrayType to VectorUDT\n",
    "def array_to_vector(array):\n",
    "    return Vectors.dense(array)\n",
    "\n",
    "# Register the UDF\n",
    "array_to_vector_udf = udf(array_to_vector, VectorUDT())"
   ]
  },
  {
   "cell_type": "code",
   "execution_count": 36,
   "id": "71af56a7",
   "metadata": {},
   "outputs": [
    {
     "data": {
      "application/vnd.jupyter.widget-view+json": {
       "model_id": "",
       "version_major": 2,
       "version_minor": 0
      },
      "text/plain": [
       "FloatProgress(value=0.0, bar_style='info', description='Progress:', layout=Layout(height='25px', width='50%'),…"
      ]
     },
     "metadata": {},
     "output_type": "display_data"
    }
   ],
   "source": [
    "# Apply the UDF to create a new column of type Vector\n",
    "images_with_array_and_vector_features = \\\n",
    "images_with_array_features.withColumn(\n",
    "    \"vector_features\",\n",
    "    array_to_vector_udf(\"features\")\n",
    ")"
   ]
  },
  {
   "cell_type": "code",
   "execution_count": 37,
   "id": "9d6ce1d6",
   "metadata": {},
   "outputs": [
    {
     "data": {
      "application/vnd.jupyter.widget-view+json": {
       "model_id": "",
       "version_major": 2,
       "version_minor": 0
      },
      "text/plain": [
       "FloatProgress(value=0.0, bar_style='info', description='Progress:', layout=Layout(height='25px', width='50%'),…"
      ]
     },
     "metadata": {},
     "output_type": "display_data"
    }
   ],
   "source": [
    "pca = PCA(k=10, inputCol=\"vector_features\")\n",
    "pca.setOutputCol(\"transformed_features\")\n",
    "pca_model = pca.fit(images_with_array_and_vector_features)"
   ]
  },
  {
   "cell_type": "code",
   "execution_count": 38,
   "id": "4e1c4e5f",
   "metadata": {},
   "outputs": [
    {
     "data": {
      "application/vnd.jupyter.widget-view+json": {
       "model_id": "",
       "version_major": 2,
       "version_minor": 0
      },
      "text/plain": [
       "FloatProgress(value=0.0, bar_style='info', description='Progress:', layout=Layout(height='25px', width='50%'),…"
      ]
     },
     "metadata": {},
     "output_type": "display_data"
    }
   ],
   "source": [
    "images_with_array_and_vector_and_transformed_features = \\\n",
    "pca_model.transform(images_with_array_and_vector_features)"
   ]
  },
  {
   "cell_type": "code",
   "execution_count": 39,
   "id": "3248ed12",
   "metadata": {},
   "outputs": [
    {
     "data": {
      "application/vnd.jupyter.widget-view+json": {
       "model_id": "",
       "version_major": 2,
       "version_minor": 0
      },
      "text/plain": [
       "FloatProgress(value=0.0, bar_style='info', description='Progress:', layout=Layout(height='25px', width='50%'),…"
      ]
     },
     "metadata": {},
     "output_type": "display_data"
    },
    {
     "name": "stdout",
     "output_type": "stream",
     "text": [
      "root\n",
      " |-- path: string (nullable = true)\n",
      " |-- label: string (nullable = true)\n",
      " |-- features: array (nullable = true)\n",
      " |    |-- element: float (containsNull = true)\n",
      " |-- vector_features: vector (nullable = true)\n",
      " |-- transformed_features: vector (nullable = true)"
     ]
    }
   ],
   "source": [
    "images_with_array_and_vector_and_transformed_features.printSchema()"
   ]
  },
  {
   "cell_type": "code",
   "execution_count": 40,
   "id": "8477323c",
   "metadata": {},
   "outputs": [
    {
     "data": {
      "application/vnd.jupyter.widget-view+json": {
       "model_id": "",
       "version_major": 2,
       "version_minor": 0
      },
      "text/plain": [
       "FloatProgress(value=0.0, bar_style='info', description='Progress:', layout=Layout(height='25px', width='50%'),…"
      ]
     },
     "metadata": {},
     "output_type": "display_data"
    }
   ],
   "source": [
    "images_with_transformed_features = \\\n",
    "images_with_array_and_vector_and_transformed_features.select(\n",
    "    'path',\n",
    "    'label',\n",
    "    'transformed_features'\n",
    ")"
   ]
  },
  {
   "cell_type": "code",
   "execution_count": 41,
   "id": "b988159b",
   "metadata": {},
   "outputs": [
    {
     "data": {
      "application/vnd.jupyter.widget-view+json": {
       "model_id": "",
       "version_major": 2,
       "version_minor": 0
      },
      "text/plain": [
       "FloatProgress(value=0.0, bar_style='info', description='Progress:', layout=Layout(height='25px', width='50%'),…"
      ]
     },
     "metadata": {},
     "output_type": "display_data"
    }
   ],
   "source": [
    "images_with_transformed_features.write\\\n",
    ".mode(\"overwrite\").parquet(PATH_Result)"
   ]
  },
  {
   "cell_type": "code",
   "execution_count": 42,
   "id": "33d0ac2c",
   "metadata": {},
   "outputs": [
    {
     "data": {
      "application/vnd.jupyter.widget-view+json": {
       "model_id": "",
       "version_major": 2,
       "version_minor": 0
      },
      "text/plain": [
       "FloatProgress(value=0.0, bar_style='info', description='Progress:', layout=Layout(height='25px', width='50%'),…"
      ]
     },
     "metadata": {},
     "output_type": "display_data"
    }
   ],
   "source": [
    "df_from_file = pd.read_parquet(PATH_Result, engine='pyarrow')"
   ]
  },
  {
   "cell_type": "code",
   "execution_count": 43,
   "id": "0f7eec43",
   "metadata": {},
   "outputs": [
    {
     "data": {
      "application/vnd.jupyter.widget-view+json": {
       "model_id": "",
       "version_major": 2,
       "version_minor": 0
      },
      "text/plain": [
       "FloatProgress(value=0.0, bar_style='info', description='Progress:', layout=Layout(height='25px', width='50%'),…"
      ]
     },
     "metadata": {},
     "output_type": "display_data"
    },
    {
     "name": "stdout",
     "output_type": "stream",
     "text": [
      "                                                path  ...                               transformed_features\n",
      "0  s3://alex-oc-test-21/input/Test1/Apricot/23_10...  ...  {'type': 1, 'size': None, 'indices': None, 'va...\n",
      "1  s3://alex-oc-test-21/input/Test1/Apricot/25_10...  ...  {'type': 1, 'size': None, 'indices': None, 'va...\n",
      "2  s3://alex-oc-test-21/input/Test1/Apricot/104_1...  ...  {'type': 1, 'size': None, 'indices': None, 'va...\n",
      "3  s3://alex-oc-test-21/input/Test1/Banana Lady F...  ...  {'type': 1, 'size': None, 'indices': None, 'va...\n",
      "4  s3://alex-oc-test-21/input/Test1/Banana Lady F...  ...  {'type': 1, 'size': None, 'indices': None, 'va...\n",
      "\n",
      "[5 rows x 3 columns]"
     ]
    }
   ],
   "source": [
    "df_from_file.head()"
   ]
  },
  {
   "cell_type": "code",
   "execution_count": 44,
   "id": "e83b484e",
   "metadata": {},
   "outputs": [
    {
     "data": {
      "application/vnd.jupyter.widget-view+json": {
       "model_id": "",
       "version_major": 2,
       "version_minor": 0
      },
      "text/plain": [
       "FloatProgress(value=0.0, bar_style='info', description='Progress:', layout=Layout(height='25px', width='50%'),…"
      ]
     },
     "metadata": {},
     "output_type": "display_data"
    },
    {
     "name": "stdout",
     "output_type": "stream",
     "text": [
      "{'type': 1, 'size': None, 'indices': None, 'values': array([-12.90199294,   2.26495812,  -8.49400134,   2.07394065,\n",
      "         0.21992382,   3.95324557,  -1.46668882,  -3.03114165,\n",
      "         6.37412001,  -0.90625153])}"
     ]
    }
   ],
   "source": [
    "df_from_file.loc[0, 'transformed_features']"
   ]
  },
  {
   "cell_type": "code",
   "execution_count": null,
   "id": "52478736",
   "metadata": {},
   "outputs": [],
   "source": []
  }
 ],
 "metadata": {
  "kernelspec": {
   "display_name": "Python 3 (ipykernel)",
   "language": "python",
   "name": "python3"
  },
  "language_info": {
   "codemirror_mode": {
    "name": "ipython",
    "version": 3
   },
   "file_extension": ".py",
   "mimetype": "text/x-python",
   "name": "python",
   "nbconvert_exporter": "python",
   "pygments_lexer": "ipython3",
   "version": "3.10.6"
  },
  "toc": {
   "base_numbering": 1,
   "nav_menu": {},
   "number_sections": true,
   "sideBar": true,
   "skip_h1_title": false,
   "title_cell": "Table of Contents",
   "title_sidebar": "Contents",
   "toc_cell": false,
   "toc_position": {},
   "toc_section_display": true,
   "toc_window_display": false
  }
 },
 "nbformat": 4,
 "nbformat_minor": 5
}
